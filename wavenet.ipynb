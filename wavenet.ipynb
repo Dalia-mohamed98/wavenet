{
  "nbformat": 4,
  "nbformat_minor": 0,
  "metadata": {
    "colab": {
      "name": "wavenet.ipynb",
      "provenance": [],
      "authorship_tag": "ABX9TyNYlmJg6Z8y3cWgEKmuRqMP",
      "include_colab_link": true
    },
    "kernelspec": {
      "name": "python3",
      "display_name": "Python 3"
    },
    "accelerator": "GPU"
  },
  "cells": [
    {
      "cell_type": "markdown",
      "metadata": {
        "id": "view-in-github",
        "colab_type": "text"
      },
      "source": [
        "<a href=\"https://colab.research.google.com/github/Dalia-mohamed98/wavenet/blob/master/wavenet.ipynb\" target=\"_parent\"><img src=\"https://colab.research.google.com/assets/colab-badge.svg\" alt=\"Open In Colab\"/></a>"
      ]
    },
    {
      "cell_type": "code",
      "metadata": {
        "id": "5frekrSH6of9",
        "colab_type": "code",
        "colab": {
          "base_uri": "https://localhost:8080/",
          "height": 104
        },
        "outputId": "bf71e555-6ce2-440e-a147-021f5ecd27c2"
      },
      "source": [
        "!git clone https://github.com/TanUkkii007/wavenet.git"
      ],
      "execution_count": 11,
      "outputs": [
        {
          "output_type": "stream",
          "text": [
            "Cloning into 'wavenet'...\n",
            "remote: Enumerating objects: 156, done.\u001b[K\n",
            "remote: Total 156 (delta 0), reused 0 (delta 0), pack-reused 156\n",
            "Receiving objects: 100% (156/156), 666.99 KiB | 700.00 KiB/s, done.\n",
            "Resolving deltas: 100% (66/66), done.\n"
          ],
          "name": "stdout"
        }
      ]
    },
    {
      "cell_type": "code",
      "metadata": {
        "id": "NIHTHK7T60c1",
        "colab_type": "code",
        "colab": {
          "base_uri": "https://localhost:8080/",
          "height": 34
        },
        "outputId": "1232c408-baa2-4ed7-ab3f-2d1b3d75f62c"
      },
      "source": [
        "cd wavenet/"
      ],
      "execution_count": 12,
      "outputs": [
        {
          "output_type": "stream",
          "text": [
            "/content/wavenet\n"
          ],
          "name": "stdout"
        }
      ]
    },
    {
      "cell_type": "code",
      "metadata": {
        "id": "DEMCiXP57B78",
        "colab_type": "code",
        "colab": {
          "base_uri": "https://localhost:8080/",
          "height": 1000
        },
        "outputId": "04756b12-b9d3-4729-a2fd-9762c72de037"
      },
      "source": [
        "!pip install pyspark==2.3.1 librosa==0.6.1 matplotlib==2.2.2 hypothesis==3.59.1 docopt==0.6.2"
      ],
      "execution_count": 8,
      "outputs": [
        {
          "output_type": "stream",
          "text": [
            "Collecting pyspark==2.3.1\n",
            "\u001b[?25l  Downloading https://files.pythonhosted.org/packages/ee/2f/709df6e8dc00624689aa0a11c7a4c06061a7d00037e370584b9f011df44c/pyspark-2.3.1.tar.gz (211.9MB)\n",
            "\u001b[K     |████████████████████████████████| 211.9MB 48kB/s \n",
            "\u001b[?25hCollecting librosa==0.6.1\n",
            "\u001b[?25l  Downloading https://files.pythonhosted.org/packages/32/3d/7d1677f363bf2d576930be96371112a053264455885f40ff4299cd2a9348/librosa-0.6.1.tar.gz (1.6MB)\n",
            "\u001b[K     |████████████████████████████████| 1.6MB 29.2MB/s \n",
            "\u001b[?25hCollecting matplotlib==2.2.2\n",
            "\u001b[?25l  Downloading https://files.pythonhosted.org/packages/49/b8/89dbd27f2fb171ce753bb56220d4d4f6dbc5fe32b95d8edc4415782ef07f/matplotlib-2.2.2-cp36-cp36m-manylinux1_x86_64.whl (12.6MB)\n",
            "\u001b[K     |████████████████████████████████| 12.6MB 23.3MB/s \n",
            "\u001b[?25hCollecting hypothesis==3.59.1\n",
            "\u001b[?25l  Downloading https://files.pythonhosted.org/packages/28/45/4de022ce808f65626c365d443f97f15bd4ed3fcb7ee0f6e00d2beb87ec3a/hypothesis-3.59.1.tar.gz (157kB)\n",
            "\u001b[K     |████████████████████████████████| 163kB 45.0MB/s \n",
            "\u001b[?25hRequirement already satisfied: docopt==0.6.2 in /usr/local/lib/python3.6/dist-packages (0.6.2)\n",
            "Collecting py4j==0.10.7\n",
            "\u001b[?25l  Downloading https://files.pythonhosted.org/packages/e3/53/c737818eb9a7dc32a7cd4f1396e787bd94200c3997c72c1dbe028587bd76/py4j-0.10.7-py2.py3-none-any.whl (197kB)\n",
            "\u001b[K     |████████████████████████████████| 204kB 34.0MB/s \n",
            "\u001b[?25hRequirement already satisfied: audioread>=2.0.0 in /usr/local/lib/python3.6/dist-packages (from librosa==0.6.1) (2.1.8)\n",
            "Requirement already satisfied: numpy>=1.8.0 in /usr/local/lib/python3.6/dist-packages (from librosa==0.6.1) (1.17.5)\n",
            "Requirement already satisfied: scipy>=0.14.0 in /usr/local/lib/python3.6/dist-packages (from librosa==0.6.1) (1.4.1)\n",
            "Requirement already satisfied: scikit-learn!=0.19.0,>=0.14.0 in /usr/local/lib/python3.6/dist-packages (from librosa==0.6.1) (0.22.1)\n",
            "Requirement already satisfied: joblib>=0.7.0 in /usr/local/lib/python3.6/dist-packages (from librosa==0.6.1) (0.14.1)\n",
            "Requirement already satisfied: decorator>=3.0.0 in /usr/local/lib/python3.6/dist-packages (from librosa==0.6.1) (4.4.1)\n",
            "Requirement already satisfied: six>=1.3 in /usr/local/lib/python3.6/dist-packages (from librosa==0.6.1) (1.12.0)\n",
            "Requirement already satisfied: resampy>=0.2.0 in /usr/local/lib/python3.6/dist-packages (from librosa==0.6.1) (0.2.2)\n",
            "Requirement already satisfied: numba>=0.38.0 in /usr/local/lib/python3.6/dist-packages (from librosa==0.6.1) (0.47.0)\n",
            "Requirement already satisfied: pytz in /usr/local/lib/python3.6/dist-packages (from matplotlib==2.2.2) (2018.9)\n",
            "Requirement already satisfied: pyparsing!=2.0.4,!=2.1.2,!=2.1.6,>=2.0.1 in /usr/local/lib/python3.6/dist-packages (from matplotlib==2.2.2) (2.4.6)\n",
            "Requirement already satisfied: cycler>=0.10 in /usr/local/lib/python3.6/dist-packages (from matplotlib==2.2.2) (0.10.0)\n",
            "Requirement already satisfied: kiwisolver>=1.0.1 in /usr/local/lib/python3.6/dist-packages (from matplotlib==2.2.2) (1.1.0)\n",
            "Requirement already satisfied: python-dateutil>=2.1 in /usr/local/lib/python3.6/dist-packages (from matplotlib==2.2.2) (2.6.1)\n",
            "Requirement already satisfied: attrs>=16.0.0 in /usr/local/lib/python3.6/dist-packages (from hypothesis==3.59.1) (19.3.0)\n",
            "Requirement already satisfied: coverage in /usr/local/lib/python3.6/dist-packages (from hypothesis==3.59.1) (3.7.1)\n",
            "Requirement already satisfied: setuptools in /usr/local/lib/python3.6/dist-packages (from numba>=0.38.0->librosa==0.6.1) (42.0.2)\n",
            "Requirement already satisfied: llvmlite>=0.31.0dev0 in /usr/local/lib/python3.6/dist-packages (from numba>=0.38.0->librosa==0.6.1) (0.31.0)\n",
            "Building wheels for collected packages: pyspark, librosa, hypothesis\n",
            "  Building wheel for pyspark (setup.py) ... \u001b[?25l\u001b[?25hdone\n",
            "  Created wheel for pyspark: filename=pyspark-2.3.1-py2.py3-none-any.whl size=212296756 sha256=a30d0aec3f8467df333f8f6682c314d4434aea30b1fcdfee47fcde9b4bea0881\n",
            "  Stored in directory: /root/.cache/pip/wheels/37/48/54/f1b63f0dbb729e20c92f1bbcf1c53c03b300e0b93ca1781526\n",
            "  Building wheel for librosa (setup.py) ... \u001b[?25l\u001b[?25hdone\n",
            "  Created wheel for librosa: filename=librosa-0.6.1-cp36-none-any.whl size=1567857 sha256=44e39df4bacb54012793bd8275e15a7bf125e36063811eae6cba52923d1f897a\n",
            "  Stored in directory: /root/.cache/pip/wheels/e7/58/3a/820767c35a26cdb7e9d70971454fc6e072524aa4edc934f710\n",
            "  Building wheel for hypothesis (setup.py) ... \u001b[?25l\u001b[?25hdone\n",
            "  Created wheel for hypothesis: filename=hypothesis-3.59.1-cp36-none-any.whl size=209026 sha256=3b29b67b4a1d88393f273ebb08808f8bcf693386be204ecf8aefd6eeec9b8006\n",
            "  Stored in directory: /root/.cache/pip/wheels/9c/ab/23/c9d748256c5395e9f852e23283fa7e50484eb07c0fc759bfa3\n",
            "Successfully built pyspark librosa hypothesis\n",
            "\u001b[31mERROR: plotnine 0.6.0 has requirement matplotlib>=3.1.1, but you'll have matplotlib 2.2.2 which is incompatible.\u001b[0m\n",
            "\u001b[31mERROR: mizani 0.6.0 has requirement matplotlib>=3.1.1, but you'll have matplotlib 2.2.2 which is incompatible.\u001b[0m\n",
            "\u001b[31mERROR: magenta 0.3.19 has requirement librosa>=0.6.2, but you'll have librosa 0.6.1 which is incompatible.\u001b[0m\n",
            "\u001b[31mERROR: albumentations 0.1.12 has requirement imgaug<0.2.7,>=0.2.5, but you'll have imgaug 0.2.9 which is incompatible.\u001b[0m\n",
            "Installing collected packages: py4j, pyspark, librosa, matplotlib, hypothesis\n",
            "  Found existing installation: librosa 0.6.3\n",
            "    Uninstalling librosa-0.6.3:\n",
            "      Successfully uninstalled librosa-0.6.3\n",
            "  Found existing installation: matplotlib 3.1.2\n",
            "    Uninstalling matplotlib-3.1.2:\n",
            "      Successfully uninstalled matplotlib-3.1.2\n",
            "Successfully installed hypothesis-3.59.1 librosa-0.6.1 matplotlib-2.2.2 py4j-0.10.7 pyspark-2.3.1\n"
          ],
          "name": "stdout"
        },
        {
          "output_type": "display_data",
          "data": {
            "application/vnd.colab-display-data+json": {
              "pip_warning": {
                "packages": [
                  "matplotlib",
                  "mpl_toolkits"
                ]
              }
            }
          },
          "metadata": {
            "tags": []
          }
        }
      ]
    },
    {
      "cell_type": "code",
      "metadata": {
        "id": "fICkkYxN7N1T",
        "colab_type": "code",
        "colab": {
          "base_uri": "https://localhost:8080/",
          "height": 100
        },
        "outputId": "6e556e8f-9b34-45d7-fb84-270e6d0fb48e"
      },
      "source": [
        "!curl \"https://data.keithito.com/data/speech/LJSpeech-1.1.tar.bz2\" | tar -xj  "
      ],
      "execution_count": 0,
      "outputs": [
        {
          "output_type": "stream",
          "text": [
            "  % Total    % Received % Xferd  Average Speed   Time    Time     Time  Current\n",
            "                                 Dload  Upload   Total   Spent    Left  Speed\n",
            " 50 2621M   50 1331M    0     0  7865k      0  0:05:41  0:02:53  0:02:48 7778k"
          ],
          "name": "stdout"
        }
      ]
    },
    {
      "cell_type": "code",
      "metadata": {
        "id": "qI70gMyAA7IY",
        "colab_type": "code",
        "colab": {
          "base_uri": "https://localhost:8080/",
          "height": 1000
        },
        "outputId": "09a43ea9-499f-4351-a157-f8f0eca388cf"
      },
      "source": [
        "!apt-get purge openjdk-\\* icedtea-\\* icedtea6-\\*"
      ],
      "execution_count": 12,
      "outputs": [
        {
          "output_type": "stream",
          "text": [
            "Reading package lists... Done\n",
            "Building dependency tree       \n",
            "Reading state information... Done\n",
            "Note, selecting 'openjdk-9-jre-headless' for glob 'openjdk-*'\n",
            "Note, selecting 'openjdk-8-jdk' for glob 'openjdk-*'\n",
            "Note, selecting 'openjdk-8-jre' for glob 'openjdk-*'\n",
            "Note, selecting 'openjdk-6-jre' for glob 'openjdk-*'\n",
            "Note, selecting 'openjdk-6-jre-headless' for glob 'openjdk-*'\n",
            "Note, selecting 'openjdk-11-demo' for glob 'openjdk-*'\n",
            "Note, selecting 'openjdk-8-demo' for glob 'openjdk-*'\n",
            "Note, selecting 'openjdk-11-source' for glob 'openjdk-*'\n",
            "Note, selecting 'openjdk-8-jre-dcevm' for glob 'openjdk-*'\n",
            "Note, selecting 'openjdk-11-jre-headless' for glob 'openjdk-*'\n",
            "Note, selecting 'openjdk-11-dbg' for glob 'openjdk-*'\n",
            "Note, selecting 'openjdk-11-doc' for glob 'openjdk-*'\n",
            "Note, selecting 'openjdk-8-jdk-headless' for glob 'openjdk-*'\n",
            "Note, selecting 'openjdk-7-jre-headless' for glob 'openjdk-*'\n",
            "Note, selecting 'openjdk-8-jre-zero' for glob 'openjdk-*'\n",
            "Note, selecting 'openjdk-8-source' for glob 'openjdk-*'\n",
            "Note, selecting 'openjdk-jre' for glob 'openjdk-*'\n",
            "Note, selecting 'openjdk-11-jdk' for glob 'openjdk-*'\n",
            "Note, selecting 'openjdk-11-jre' for glob 'openjdk-*'\n",
            "Note, selecting 'openjdk-11-jre-zero' for glob 'openjdk-*'\n",
            "Note, selecting 'openjdk-7-jdk' for glob 'openjdk-*'\n",
            "Note, selecting 'openjdk-10-jdk-headless' for glob 'openjdk-*'\n",
            "Note, selecting 'openjdk-7-jre' for glob 'openjdk-*'\n",
            "Note, selecting 'openjdk-9-jdk-headless' for glob 'openjdk-*'\n",
            "Note, selecting 'openjdk-8-jre-headless' for glob 'openjdk-*'\n",
            "Note, selecting 'openjdk-11-jre-dcevm' for glob 'openjdk-*'\n",
            "Note, selecting 'openjdk-11-jdk-headless' for glob 'openjdk-*'\n",
            "Note, selecting 'openjdk-8-dbg' for glob 'openjdk-*'\n",
            "Note, selecting 'openjdk-8-doc' for glob 'openjdk-*'\n",
            "Package 'openjdk-6-jre-headless' is not installed, so not removed\n",
            "Package 'openjdk-7-jdk' is not installed, so not removed\n",
            "Package 'openjdk-6-jre' is not installed, so not removed\n",
            "Package 'openjdk-7-jre' is not installed, so not removed\n",
            "Package 'openjdk-7-jre-headless' is not installed, so not removed\n",
            "Package 'openjdk-9-jre-headless' is not installed, so not removed\n",
            "Package 'openjdk-jre' is not installed, so not removed\n",
            "Package 'openjdk-9-jdk-headless' is not installed, so not removed\n",
            "Package 'openjdk-10-jdk-headless' is not installed, so not removed\n",
            "Note, selecting 'icedtea-gcjwebplugin' for glob 'icedtea-*'\n",
            "Note, selecting 'icedtea-netx-common' for glob 'icedtea-*'\n",
            "Note, selecting 'icedtea-8-plugin' for glob 'icedtea-*'\n",
            "Note, selecting 'icedtea-netx' for glob 'icedtea-*'\n",
            "Note, selecting 'icedtea-plugin' for glob 'icedtea-*'\n",
            "Package 'icedtea-gcjwebplugin' is not installed, so not removed\n",
            "Note, selecting 'icedtea6-plugin' for glob 'icedtea6-*'\n",
            "Package 'icedtea6-plugin' is not installed, so not removed\n",
            "Package 'openjdk-8-jre-dcevm' is not installed, so not removed\n",
            "Package 'openjdk-11-dbg' is not installed, so not removed\n",
            "Package 'openjdk-11-doc' is not installed, so not removed\n",
            "Package 'openjdk-11-jdk' is not installed, so not removed\n",
            "Package 'openjdk-11-jdk-headless' is not installed, so not removed\n",
            "Package 'openjdk-11-source' is not installed, so not removed\n",
            "Package 'icedtea-8-plugin' is not installed, so not removed\n",
            "Package 'icedtea-netx' is not installed, so not removed\n",
            "Package 'icedtea-netx-common' is not installed, so not removed\n",
            "Package 'icedtea-plugin' is not installed, so not removed\n",
            "Package 'openjdk-11-demo' is not installed, so not removed\n",
            "Package 'openjdk-11-jre-dcevm' is not installed, so not removed\n",
            "Package 'openjdk-11-jre-zero' is not installed, so not removed\n",
            "Package 'openjdk-8-dbg' is not installed, so not removed\n",
            "Package 'openjdk-8-demo' is not installed, so not removed\n",
            "Package 'openjdk-8-doc' is not installed, so not removed\n",
            "Package 'openjdk-8-jdk' is not installed, so not removed\n",
            "Package 'openjdk-8-jre' is not installed, so not removed\n",
            "Package 'openjdk-8-jre-zero' is not installed, so not removed\n",
            "Package 'openjdk-8-source' is not installed, so not removed\n",
            "The following packages were automatically installed and are no longer required:\n",
            "  cuda-demo-suite-10-1 cuda-documentation-10-1 cuda-drivers\n",
            "  cuda-nsight-compute-10-1 cuda-nsight-systems-10-1 cuda-runtime-10-1\n",
            "  cuda-samples-10-1 dkms freeglut3 freeglut3-dev java-common\n",
            "  keyboard-configuration libargon2-0 libcap2 libcryptsetup12\n",
            "  libdevmapper1.02.1 libfontenc1 libgtk2.0-0 libgtk2.0-common libidn11\n",
            "  libip4tc0 libjansson4 libnvidia-cfg1-440 libnvidia-common-430\n",
            "  libnvidia-common-440 libnvidia-decode-440 libnvidia-encode-440\n",
            "  libnvidia-fbc1-440 libnvidia-gl-440 libnvidia-ifr1-440 libpam-systemd\n",
            "  libpcsclite1 libpolkit-agent-1-0 libpolkit-backend-1-0 libpolkit-gobject-1-0\n",
            "  libxfont2 libxi-dev libxkbfile1 libxmu-dev libxmu-headers libxnvctrl0\n",
            "  libxtst6 nsight-compute-2019.5.0 nsight-systems-2019.5.2\n",
            "  nvidia-compute-utils-440 nvidia-dkms-440 nvidia-driver-440\n",
            "  nvidia-kernel-common-440 nvidia-kernel-source-440 nvidia-modprobe\n",
            "  nvidia-settings nvidia-utils-440 policykit-1 policykit-1-gnome python3-xkit\n",
            "  screen-resolution-extra systemd systemd-sysv udev x11-xkb-utils\n",
            "  xserver-common xserver-xorg-core-hwe-18.04 xserver-xorg-video-nvidia-440\n",
            "Use 'apt autoremove' to remove them.\n",
            "The following packages will be REMOVED:\n",
            "  ca-certificates-java* cuda-10-1* cuda-nsight-10-1* cuda-nvvp-10-1*\n",
            "  cuda-toolkit-10-1* cuda-tools-10-1* cuda-visual-tools-10-1* default-jre*\n",
            "  default-jre-headless* openjdk-11-jre* openjdk-11-jre-headless*\n",
            "  openjdk-8-jdk-headless* openjdk-8-jre-headless*\n",
            "0 upgraded, 0 newly installed, 13 to remove and 7 not upgraded.\n",
            "After this operation, 752 MB disk space will be freed.\n",
            "(Reading database ... 135004 files and directories currently installed.)\n",
            "Removing openjdk-8-jdk-headless:amd64 (8u232-b09-0ubuntu1~18.04.1) ...\n",
            "Removing cuda-10-1 (10.1.243-1) ...\n",
            "Removing cuda-toolkit-10-1 (10.1.243-1) ...\n",
            "Removing cuda-tools-10-1 (10.1.243-1) ...\n",
            "Removing cuda-visual-tools-10-1 (10.1.243-1) ...\n",
            "Removing cuda-nvvp-10-1 (10.1.243-1) ...\n",
            "Removing openjdk-8-jre-headless:amd64 (8u232-b09-0ubuntu1~18.04.1) ...\n",
            "Removing cuda-nsight-10-1 (10.1.243-1) ...\n",
            "Removing default-jre (2:1.11-68ubuntu1~18.04.1) ...\n",
            "Removing openjdk-11-jre:amd64 (11.0.5+10-0ubuntu1.1~18.04) ...\n",
            "Removing default-jre-headless (2:1.11-68ubuntu1~18.04.1) ...\n",
            "Removing ca-certificates-java (20180516ubuntu1~18.04.1) ...\n",
            "Removing openjdk-11-jre-headless:amd64 (11.0.5+10-0ubuntu1.1~18.04) ...\n",
            "Processing triggers for ca-certificates (20180409) ...\n",
            "Updating certificates in /etc/ssl/certs...\n",
            "0 added, 0 removed; done.\n",
            "Running hooks in /etc/ca-certificates/update.d...\n",
            "\n",
            "updates of cacerts keystore disabled.\n",
            "done.\n",
            "Processing triggers for hicolor-icon-theme (0.17-2) ...\n",
            "Processing triggers for mime-support (3.60ubuntu1) ...\n",
            "(Reading database ... 131505 files and directories currently installed.)\n",
            "Purging configuration files for ca-certificates-java (20180516ubuntu1~18.04.1) ...\n",
            "Purging configuration files for openjdk-11-jre-headless:amd64 (11.0.5+10-0ubuntu1.1~18.04) ...\n",
            "Purging configuration files for cuda-visual-tools-10-1 (10.1.243-1) ...\n",
            "Purging configuration files for cuda-toolkit-10-1 (10.1.243-1) ...\n",
            "Purging configuration files for openjdk-8-jre-headless:amd64 (8u232-b09-0ubuntu1~18.04.1) ...\n"
          ],
          "name": "stdout"
        }
      ]
    },
    {
      "cell_type": "code",
      "metadata": {
        "id": "WO-E30CYLzLb",
        "colab_type": "code",
        "colab": {
          "base_uri": "https://localhost:8080/",
          "height": 694
        },
        "outputId": "8311dd30-95b5-4f45-ec91-cffcab432102"
      },
      "source": [
        "!apt install openjdk-8-jre-headless"
      ],
      "execution_count": 13,
      "outputs": [
        {
          "output_type": "stream",
          "text": [
            "Reading package lists... Done\n",
            "Building dependency tree       \n",
            "Reading state information... Done\n",
            "The following packages were automatically installed and are no longer required:\n",
            "  cuda-demo-suite-10-1 cuda-documentation-10-1 cuda-drivers\n",
            "  cuda-nsight-compute-10-1 cuda-nsight-systems-10-1 cuda-runtime-10-1\n",
            "  cuda-samples-10-1 dkms freeglut3 freeglut3-dev keyboard-configuration\n",
            "  libargon2-0 libcap2 libcryptsetup12 libdevmapper1.02.1 libfontenc1\n",
            "  libgtk2.0-0 libgtk2.0-common libidn11 libip4tc0 libjansson4\n",
            "  libnvidia-cfg1-440 libnvidia-common-430 libnvidia-common-440\n",
            "  libnvidia-decode-440 libnvidia-encode-440 libnvidia-fbc1-440\n",
            "  libnvidia-gl-440 libnvidia-ifr1-440 libpam-systemd libpolkit-agent-1-0\n",
            "  libpolkit-backend-1-0 libpolkit-gobject-1-0 libxfont2 libxi-dev libxkbfile1\n",
            "  libxmu-dev libxmu-headers libxnvctrl0 nsight-compute-2019.5.0\n",
            "  nsight-systems-2019.5.2 nvidia-compute-utils-440 nvidia-dkms-440\n",
            "  nvidia-driver-440 nvidia-kernel-common-440 nvidia-kernel-source-440\n",
            "  nvidia-modprobe nvidia-settings nvidia-utils-440 policykit-1\n",
            "  policykit-1-gnome python3-xkit screen-resolution-extra systemd systemd-sysv\n",
            "  udev x11-xkb-utils xserver-common xserver-xorg-core-hwe-18.04\n",
            "  xserver-xorg-video-nvidia-440\n",
            "Use 'apt autoremove' to remove them.\n",
            "The following additional packages will be installed:\n",
            "  ca-certificates-java\n",
            "Suggested packages:\n",
            "  libnss-mdns fonts-dejavu-extra fonts-ipafont-gothic fonts-ipafont-mincho\n",
            "  fonts-wqy-microhei fonts-wqy-zenhei fonts-indic\n",
            "The following NEW packages will be installed:\n",
            "  ca-certificates-java openjdk-8-jre-headless\n",
            "0 upgraded, 2 newly installed, 0 to remove and 7 not upgraded.\n",
            "Need to get 27.4 MB of archives.\n",
            "After this operation, 100 MB of additional disk space will be used.\n",
            "Ign:1 http://archive.ubuntu.com/ubuntu bionic-updates/universe amd64 openjdk-8-jre-headless amd64 8u232-b09-0ubuntu1~18.04.1\n",
            "Get:2 http://archive.ubuntu.com/ubuntu bionic-updates/main amd64 ca-certificates-java all 20180516ubuntu1~18.04.1 [12.2 kB]\n",
            "Err:1 http://security.ubuntu.com/ubuntu bionic-updates/universe amd64 openjdk-8-jre-headless amd64 8u232-b09-0ubuntu1~18.04.1\n",
            "  404  Not Found [IP: 91.189.88.31 80]\n",
            "Fetched 12.2 kB in 1s (9,531 B/s)\n",
            "E: Failed to fetch http://security.ubuntu.com/ubuntu/pool/universe/o/openjdk-8/openjdk-8-jre-headless_8u232-b09-0ubuntu1~18.04.1_amd64.deb  404  Not Found [IP: 91.189.88.31 80]\n",
            "E: Unable to fetch some archives, maybe run apt-get update or try with --fix-missing?\n"
          ],
          "name": "stdout"
        }
      ]
    },
    {
      "cell_type": "code",
      "metadata": {
        "id": "E2Dz7zBc8ZDy",
        "colab_type": "code",
        "colab": {
          "base_uri": "https://localhost:8080/",
          "height": 34
        },
        "outputId": "1945de3b-8691-43f1-afd2-2298112ee394"
      },
      "source": [
        "!python preprocess.py ljspeech LJSpeech-1.1/ /output/preprocessed/data"
      ],
      "execution_count": 10,
      "outputs": [
        {
          "output_type": "stream",
          "text": [
            "python3: can't open file 'preprocess.py': [Errno 2] No such file or directory\n"
          ],
          "name": "stdout"
        }
      ]
    },
    {
      "cell_type": "code",
      "metadata": {
        "id": "vUPfkI-fL6AH",
        "colab_type": "code",
        "colab": {}
      },
      "source": [
        "!export JAVA_HOME=/usr/lib/jvm/java-8-openjdk-amd64"
      ],
      "execution_count": 0,
      "outputs": []
    },
    {
      "cell_type": "code",
      "metadata": {
        "id": "GPFBO6TQQhXr",
        "colab_type": "code",
        "colab": {
          "base_uri": "https://localhost:8080/",
          "height": 34
        },
        "outputId": "a179524c-d53b-4ae3-976f-db666824927a"
      },
      "source": [
        "!echo $JAVA_HOME"
      ],
      "execution_count": 9,
      "outputs": [
        {
          "output_type": "stream",
          "text": [
            "\n"
          ],
          "name": "stdout"
        }
      ]
    },
    {
      "cell_type": "code",
      "metadata": {
        "id": "t9sMBPaXSEiR",
        "colab_type": "code",
        "colab": {}
      },
      "source": [
        ""
      ],
      "execution_count": 0,
      "outputs": []
    }
  ]
}